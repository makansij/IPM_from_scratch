{
 "cells": [
  {
   "cell_type": "code",
   "execution_count": 1,
   "metadata": {
    "collapsed": false
   },
   "outputs": [
    {
     "data": {
      "text/html": [
       "<style>.container { width:100% !important; }</style>"
      ],
      "text/plain": [
       "<IPython.core.display.HTML object>"
      ]
     },
     "metadata": {},
     "output_type": "display_data"
    }
   ],
   "source": [
    "from IPython.core.display import display, HTML\n",
    "display(HTML(\"<style>.container { width:100% !important; }</style>\"))"
   ]
  },
  {
   "cell_type": "code",
   "execution_count": 2,
   "metadata": {
    "collapsed": false
   },
   "outputs": [],
   "source": [
    "import numpy as np\n",
    "import project\n",
    "import scale"
   ]
  },
  {
   "cell_type": "markdown",
   "metadata": {},
   "source": [
    "From page 435 in the Bertsikas textbook there is an algorithm that we are testing here "
   ]
  },
  {
   "cell_type": "markdown",
   "metadata": {
    "collapsed": true
   },
   "source": [
    "Steps:\n",
    "\n",
    "*Remember overall we are looking for directions, and step lengths.  We do the same for the primal path following method*\n",
    "\n",
    "\n",
    "- Choose initial feasible points for $x_0$, $s_0$, and $p_0$\n",
    "- Choose direction that is primal and dual feasible\n",
    "    - Remember that in this case we have the non-linearity from the KKT conditions, so we can't just solve using a linear system (i.e. a projection)\n",
    "- Use Newton's method to find those directions\n",
    "- Update $x_0$, $s_0$, and $p_0$"
   ]
  },
  {
   "cell_type": "code",
   "execution_count": 204,
   "metadata": {
    "collapsed": true
   },
   "outputs": [],
   "source": [
    "# inputs to the solver:\n",
    "\n",
    "A = np.matrix([[1,2,0,0],\n",
    "              [0,1,0,0],\n",
    "              [0,0,1,1],\n",
    "              [0,0,0,1]])\n",
    "b = np.asmatrix(np.array([0.0,0.0, 0.5, 0.1])).reshape(4,1)\n",
    "c = np.asmatrix(np.array([0.1,0.0, 1.0, 1.5])).reshape(4,1)"
   ]
  },
  {
   "cell_type": "code",
   "execution_count": 205,
   "metadata": {
    "collapsed": true
   },
   "outputs": [],
   "source": [
    "# hyperparameters \n",
    "alpha = 0.01\n",
    "epsilon = 10**-3"
   ]
  },
  {
   "cell_type": "code",
   "execution_count": 207,
   "metadata": {
    "collapsed": false
   },
   "outputs": [],
   "source": [
    "# starting conditions\n",
    "\n",
    "x_0 = np.asmatrix(np.ones(shape=(4,1)))\n",
    "p_0 = np.asmatrix(np.ones(shape=(4,1)))\n",
    "s_0 = np.asmatrix(np.ones(shape=(4,1)))"
   ]
  },
  {
   "cell_type": "code",
   "execution_count": 220,
   "metadata": {
    "collapsed": true
   },
   "outputs": [],
   "source": [
    "X_k = np.diag(np.asarray(x_k).flatten())\n",
    "S_k = np.diag(np.asarray(s_k).flatten())"
   ]
  },
  {
   "cell_type": "code",
   "execution_count": 221,
   "metadata": {
    "collapsed": false
   },
   "outputs": [
    {
     "data": {
      "text/plain": [
       "matrix([[ 4.]])"
      ]
     },
     "execution_count": 221,
     "metadata": {},
     "output_type": "execute_result"
    }
   ],
   "source": [
    "s_k.T*x_k"
   ]
  },
  {
   "cell_type": "code",
   "execution_count": 209,
   "metadata": {
    "collapsed": false
   },
   "outputs": [],
   "source": [
    "x_k = x_0\n",
    "s_k = s_0\n",
    "p_k = p_0\n",
    "epsilon = 10**1\n",
    "\n",
    "# check if our duality gap is close to zero\n",
    "# s_k.T*x_k is a proxy for mu, which means we are actually checking if the duality gap is close to zero.\n",
    "\n",
    "k = 0\n",
    "while (s_k.T*x_k) > epsilon:\n",
    "    print 'starting the ', k, 'th iteration'\n",
    "    # reformulate the arrays into matrix form\n",
    "    # X_k and S_k should always be invertible since they are diagonal, EXCEPT if you started from a zero vector\n",
    "    X_k = np.diag(np.asarray(x_k).flatten())\n",
    "    S_k = np.diag(np.asarray(s_k).flatten())\n",
    "    u_k = 3\n",
    "    \n",
    "    # solve the linear equations that were a result of Newtons method\n",
    "    # (outputs of this part should be dx, dy, ds)\n",
    "    dx, dy, ds = get_newton_directions(A, S_k, X_k, mu)\n",
    "    \n",
    "    # solve next system to get how FAR we should move in each direction\n",
    "    B_P_k = min(1, alpha*)\n",
    "    B_D_k = min(1, alpha*)\n",
    "    \n",
    "    # use directions and magnitudes to update x, s, and p\n",
    "    \n",
    "    # we could check feasibility for fun (or at least check that x, s, and p are all positive)\n",
    "    \n",
    "    k +=1\n"
   ]
  },
  {
   "cell_type": "code",
   "execution_count": 222,
   "metadata": {
    "collapsed": false
   },
   "outputs": [
    {
     "data": {
      "text/plain": [
       "array([[ 1.,  0.,  0.,  0.],\n",
       "       [ 0.,  1.,  0.,  0.],\n",
       "       [ 0.,  0.,  1.,  0.],\n",
       "       [ 0.,  0.,  0.,  1.]])"
      ]
     },
     "execution_count": 222,
     "metadata": {},
     "output_type": "execute_result"
    }
   ],
   "source": [
    "# \n",
    "X_k*np.linalg.pinv(S_k)\n",
    "# "
   ]
  },
  {
   "cell_type": "code",
   "execution_count": 237,
   "metadata": {
    "collapsed": false
   },
   "outputs": [],
   "source": [
    "P_k = D_k*A.T*np.linalg.inv(A*D_k_2*A.T)*A*D_k"
   ]
  },
  {
   "cell_type": "code",
   "execution_count": 235,
   "metadata": {
    "collapsed": false
   },
   "outputs": [
    {
     "data": {
      "text/plain": [
       "array([[ 1.,  0.,  0.,  0.],\n",
       "       [ 0.,  1.,  0.,  0.],\n",
       "       [ 0.,  0.,  1.,  0.],\n",
       "       [ 0.,  0.,  0.,  1.]])"
      ]
     },
     "execution_count": 235,
     "metadata": {},
     "output_type": "execute_result"
    }
   ],
   "source": [
    "D_k_2"
   ]
  },
  {
   "cell_type": "code",
   "execution_count": 236,
   "metadata": {
    "collapsed": false
   },
   "outputs": [],
   "source": [
    "D_k = np.sqrt(D_k_2)"
   ]
  },
  {
   "cell_type": "code",
   "execution_count": 229,
   "metadata": {
    "collapsed": true
   },
   "outputs": [],
   "source": [
    "D_k_2 = X_k*np.linalg.inv(S_k)"
   ]
  },
  {
   "cell_type": "code",
   "execution_count": 230,
   "metadata": {
    "collapsed": true
   },
   "outputs": [],
   "source": [
    "v_k_mu_k = np.linalg.inv(X)*D_k*(mu*np.asmatrix(np.ones(shape=(S.shape[0],1))) - X*S*np.asmatrix(np.ones(shape=(S.shape[0],1))))"
   ]
  },
  {
   "cell_type": "code",
   "execution_count": 231,
   "metadata": {
    "collapsed": false
   },
   "outputs": [
    {
     "data": {
      "text/plain": [
       "matrix([[-0.9],\n",
       "        [-0.9],\n",
       "        [-0.9]])"
      ]
     },
     "execution_count": 231,
     "metadata": {},
     "output_type": "execute_result"
    }
   ],
   "source": [
    "v_k_mu_k"
   ]
  },
  {
   "cell_type": "code",
   "execution_count": 232,
   "metadata": {
    "collapsed": true
   },
   "outputs": [],
   "source": [
    "def get_newton_directions(A, S, X, mu):\n",
    "    # as a sanity check, maybe try solving the linear system a few different ways and see if you get the same answer always\n",
    "    D_k_2 = X*np.linalg.pinv(S)  # since S and X are diagonal matrices, they should usually be invertible as long as not zero\n",
    "    D_k = np.sqrt(D_k_2)\n",
    "    P_k = D_k*A.T*np.linalg.inv(A*D_k_2*A.T)*A*D_k   # would be best to do symbollically, since we are taking powers and square roots\n",
    "    v_k_mu_k = np.linalg.inv(X)*D_k*(mu*np.asmatrix(np.ones(shape=(S.shape[0],1))) - X*S*np.asmatrix(np.ones(shape=(S.shape[0],1))))\n",
    "    \n",
    "    d_x_k = D_k*(np.asmatrix(np.eye(S.shape[0])))\n",
    "    d_p_k = -np.linalg.inv(A*D_k_2*A.T)*A*D_k*v_k_mu_k\n",
    "    d_s_k = np.linalg.inv(D_k)*P_k*v_k_mu_k\n",
    "    \n",
    "    return d_x_k, d_p_k, d_s_k\n",
    "    "
   ]
  },
  {
   "cell_type": "code",
   "execution_count": 35,
   "metadata": {
    "collapsed": false
   },
   "outputs": [],
   "source": [
    "def Newtons_method(F, z_prime):\n",
    "    '''\n",
    "    Find the roots of F, which is a function of z\n",
    "    z_prime is your initial guess\n",
    "    z_prime is a vector of [x, p, s]\n",
    "\n",
    "    Args:\n",
    "        F (original functions as an array of functions as a sympy object) (e.g. F=sympy.Matrix([[f1], [f2]]))\n",
    "    Returns:\n",
    "        The locations of the roots of F, in vector form.\n",
    "    '''\n",
    "    # the Jacobian should be a matrix\n",
    "    \n",
    "        "
   ]
  },
  {
   "cell_type": "code",
   "execution_count": 36,
   "metadata": {
    "collapsed": true
   },
   "outputs": [],
   "source": [
    "# import sympy\n",
    "# import numpy as np\n",
    "# x,y = sympy.symbols('x,y', real=True)\n",
    "# J = sympy.Function('F')(x,y)"
   ]
  },
  {
   "cell_type": "markdown",
   "metadata": {},
   "source": [
    "Should we do Newtons method numerically or symbolically?  Symbolically, or at least let's try"
   ]
  },
  {
   "cell_type": "code",
   "execution_count": 12,
   "metadata": {
    "collapsed": false
   },
   "outputs": [
    {
     "data": {
      "text/plain": [
       "-0.780500864018466543530607672654"
      ]
     },
     "execution_count": 12,
     "metadata": {},
     "output_type": "execute_result"
    }
   ],
   "source": [
    "from mpmath import *\n",
    "mp.dps = 30; \n",
    "mp.pretty = True\n",
    "findroot(lambda x: x**3 + 2*sin(0.34*x) + 1, 1.4)"
   ]
  },
  {
   "cell_type": "code",
   "execution_count": null,
   "metadata": {
    "collapsed": true
   },
   "outputs": [],
   "source": [
    "findroot(sin, initial_guess)"
   ]
  },
  {
   "cell_type": "code",
   "execution_count": 3,
   "metadata": {
    "collapsed": false
   },
   "outputs": [],
   "source": [
    "import scipy"
   ]
  },
  {
   "cell_type": "markdown",
   "metadata": {},
   "source": [
    "Try to use sympy to evaluate the first derivative"
   ]
  },
  {
   "cell_type": "code",
   "execution_count": 34,
   "metadata": {
    "collapsed": true
   },
   "outputs": [],
   "source": [
    "import sympy\n",
    "import numpy as np\n",
    "x,y = sympy.symbols('x,y', real=True)\n",
    "J = sympy.Function('J')(x,y)"
   ]
  },
  {
   "cell_type": "code",
   "execution_count": 28,
   "metadata": {
    "collapsed": false
   },
   "outputs": [
    {
     "name": "stdout",
     "output_type": "stream",
     "text": [
      "Matrix([[0, -1], [6*x*y + 1, 3*x**2 - 3]])\n",
      "Matrix([[0, -1], [6*x*y + 1, 3*x**2 - 3]])\n"
     ]
    }
   ],
   "source": [
    "f1=-y\n",
    "f2=x - 3*y*(1-x**2)\n",
    "f1x=sympy.diff(f1,x)\n",
    "f1y=sympy.diff(f1,y)\n",
    "f2x=sympy.diff(f2,x)\n",
    "f2y=sympy.diff(f2,y)\n",
    "# need to use sympy tools for this - not numpy\n",
    "# cannot assign sympy.Matrix to \"J\", since \"J\" is a function\n",
    "J = sympy.Matrix([[f1x,f1y],[f2x, f2y]])\n",
    "J1 = J.subs([(0,0),(0,0)])\n",
    "print J1\n",
    "\n",
    "J2 = J.subs(10,-230)\n",
    "print J2"
   ]
  },
  {
   "cell_type": "code",
   "execution_count": 33,
   "metadata": {
    "collapsed": false
   },
   "outputs": [
    {
     "ename": "AttributeError",
     "evalue": "'J' object has no attribute 'jacobian'",
     "output_type": "error",
     "traceback": [
      "\u001b[0;31m---------------------------------------------------------------------------\u001b[0m",
      "\u001b[0;31mAttributeError\u001b[0m                            Traceback (most recent call last)",
      "\u001b[0;32m<ipython-input-33-bba07a55e214>\u001b[0m in \u001b[0;36m<module>\u001b[0;34m()\u001b[0m\n\u001b[0;32m----> 1\u001b[0;31m \u001b[0mF\u001b[0m\u001b[0;34m.\u001b[0m\u001b[0mjacobian\u001b[0m\u001b[0;34m(\u001b[0m\u001b[0;34m[\u001b[0m\u001b[0mx\u001b[0m\u001b[0;34m,\u001b[0m\u001b[0my\u001b[0m\u001b[0;34m]\u001b[0m\u001b[0;34m)\u001b[0m\u001b[0;34m\u001b[0m\u001b[0m\n\u001b[0m",
      "\u001b[0;31mAttributeError\u001b[0m: 'J' object has no attribute 'jacobian'"
     ]
    }
   ],
   "source": [
    "F.jacobian([x,y])"
   ]
  },
  {
   "cell_type": "code",
   "execution_count": 22,
   "metadata": {
    "collapsed": false
   },
   "outputs": [
    {
     "name": "stdout",
     "output_type": "stream",
     "text": [
      "Matrix([[0, -1], [6*x*y + 1, 3*x**2 - 3]])\n"
     ]
    }
   ],
   "source": [
    "print J"
   ]
  },
  {
   "cell_type": "code",
   "execution_count": 23,
   "metadata": {
    "collapsed": true
   },
   "outputs": [],
   "source": [
    "# evaluate J at certain point"
   ]
  },
  {
   "cell_type": "code",
   "execution_count": 24,
   "metadata": {
    "collapsed": false
   },
   "outputs": [
    {
     "ename": "AttributeError",
     "evalue": "'J' object has no attribute 'jacobian'",
     "output_type": "error",
     "traceback": [
      "\u001b[0;31m---------------------------------------------------------------------------\u001b[0m",
      "\u001b[0;31mAttributeError\u001b[0m                            Traceback (most recent call last)",
      "\u001b[0;32m<ipython-input-24-919ea21bff4c>\u001b[0m in \u001b[0;36m<module>\u001b[0;34m()\u001b[0m\n\u001b[0;32m----> 1\u001b[0;31m \u001b[0msympy\u001b[0m\u001b[0;34m.\u001b[0m\u001b[0mpprint\u001b[0m\u001b[0;34m(\u001b[0m\u001b[0mF\u001b[0m\u001b[0;34m.\u001b[0m\u001b[0mjacobian\u001b[0m\u001b[0;34m(\u001b[0m\u001b[0;34m[\u001b[0m\u001b[0mx\u001b[0m\u001b[0;34m,\u001b[0m\u001b[0my\u001b[0m\u001b[0;34m]\u001b[0m\u001b[0;34m)\u001b[0m\u001b[0;34m.\u001b[0m\u001b[0msubs\u001b[0m\u001b[0;34m(\u001b[0m\u001b[0;34m[\u001b[0m\u001b[0;34m(\u001b[0m\u001b[0mx\u001b[0m\u001b[0;34m,\u001b[0m\u001b[0;36m0\u001b[0m\u001b[0;34m)\u001b[0m\u001b[0;34m,\u001b[0m\u001b[0;34m(\u001b[0m\u001b[0my\u001b[0m\u001b[0;34m,\u001b[0m\u001b[0;36m0\u001b[0m\u001b[0;34m)\u001b[0m\u001b[0;34m]\u001b[0m\u001b[0;34m)\u001b[0m\u001b[0;34m)\u001b[0m\u001b[0;34m\u001b[0m\u001b[0m\n\u001b[0m",
      "\u001b[0;31mAttributeError\u001b[0m: 'J' object has no attribute 'jacobian'"
     ]
    }
   ],
   "source": [
    "sympy.pprint(F.jacobian([x,y]).subs([(x,0),(y,0)]))"
   ]
  },
  {
   "cell_type": "code",
   "execution_count": null,
   "metadata": {
    "collapsed": true
   },
   "outputs": [],
   "source": []
  }
 ],
 "metadata": {
  "kernelspec": {
   "display_name": "Python 2",
   "language": "python",
   "name": "python2"
  },
  "language_info": {
   "codemirror_mode": {
    "name": "ipython",
    "version": 2
   },
   "file_extension": ".py",
   "mimetype": "text/x-python",
   "name": "python",
   "nbconvert_exporter": "python",
   "pygments_lexer": "ipython2",
   "version": "2.7.12rc1"
  }
 },
 "nbformat": 4,
 "nbformat_minor": 1
}
