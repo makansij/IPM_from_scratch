{
 "cells": [
  {
   "cell_type": "code",
   "execution_count": 230,
   "metadata": {
    "collapsed": false
   },
   "outputs": [],
   "source": [
    "import numpy as np\n",
    "import project\n",
    "import scale"
   ]
  },
  {
   "cell_type": "markdown",
   "metadata": {},
   "source": [
    "From page 426 in the Bertsikas textbook there is an algorithm that we are testing here "
   ]
  },
  {
   "cell_type": "code",
   "execution_count": 283,
   "metadata": {
    "collapsed": true
   },
   "outputs": [],
   "source": [
    "# need to solve for p and d \n",
    "# p are the costs for the objective function of the dual problem \n",
    "# d are the directions that we will move in. They are expected to be small, I think.  \n",
    "# They are the directions that minimize the Taylor series expansion of the Barrier function\n",
    "\n",
    "# need the matrix A and b for Ax=b\n",
    "\n",
    "# need to do a horizontal concatenation here to make one augmented matrix.\n",
    "# aug_A_1 = np.hstack((np.asmatrix(mu*vfunc(X)), A.T))\n",
    "# aug_b_1 = np.asmatrix(mu*vfunc_1(X))*np.asmatrix(e).T - c\n",
    "\n",
    "# modularize this\n",
    "\n",
    "def get_A_b(mu, X, A, e, c):\n",
    "    aug_A_1 = np.hstack((np.asmatrix(mu*vfunc(X)), A.T))\n",
    "    aug_b_1 = np.asmatrix(mu*vfunc_1(X))*np.asmatrix(e).T - c\n",
    "    return aug_A_1, aug_b_1\n",
    "\n",
    "# get second part \n",
    "\n",
    "def get_A_b_2(A):\n",
    "    aug_A_2 = np.hstack((np.asmatrix(A), np.zeros((A.shape[0],A.shape[0]))))\n",
    "    aug_b_2 = np.asmatrix(np.zeros((A.shape[0],1)))\n",
    "    return aug_A_2, aug_b_2"
   ]
  },
  {
   "cell_type": "code",
   "execution_count": 284,
   "metadata": {
    "collapsed": true
   },
   "outputs": [],
   "source": [
    "# def generate_A(n):\n",
    "#     A = -100*np.random.rand(n,n)\n",
    "#     return A"
   ]
  },
  {
   "cell_type": "code",
   "execution_count": 329,
   "metadata": {
    "collapsed": false
   },
   "outputs": [],
   "source": [
    "# initial values \n",
    "\n",
    "x_0 = np.matrix([[0.5],[0.5]])\n",
    "s_0 = np.matrix([[0.5],[0.5]])\n",
    "p_0 = np.matrix([[0],[1]])"
   ]
  },
  {
   "cell_type": "code",
   "execution_count": 403,
   "metadata": {
    "collapsed": false
   },
   "outputs": [
    {
     "ename": "SyntaxError",
     "evalue": "invalid syntax (<ipython-input-403-2cea711031b9>, line 40)",
     "output_type": "error",
     "traceback": [
      "\u001b[0;36m  File \u001b[0;32m\"<ipython-input-403-2cea711031b9>\"\u001b[0;36m, line \u001b[0;32m40\u001b[0m\n\u001b[0;31m    and how far we should move.\u001b[0m\n\u001b[0m      ^\u001b[0m\n\u001b[0;31mSyntaxError\u001b[0m\u001b[0;31m:\u001b[0m invalid syntax\n"
     ]
    }
   ],
   "source": [
    "A = np.matrix([[1,1],\n",
    "               [1,0]])\n",
    "x = x_0\n",
    "s = s_0\n",
    "p = p_0\n",
    "epsilon = 10**-3\n",
    "k = 0\n",
    "alpha = 0.9\n",
    "mu = 100000\n",
    "c = np.matrix([[1],[2]])\n",
    "\n",
    "# cannot divide by 0.0, so need to check for that.  This is slightly inaccurate because if x \n",
    "#...is close to zero and negative then it will not preserve the negative (i.e. it puts it to 10**6)\n",
    "\n",
    "udf = lambda x: (x)**-2 if x!=0.0 else 10**6\n",
    "vfunc = np.vectorize(udf)\n",
    "\n",
    "udf_1 = lambda x: (x)**-1 if x!=0.0 else 10**3\n",
    "vfunc_1 = np.vectorize(udf_1)\n",
    "\n",
    "# collect the x_s\n",
    "x_s = []\n",
    "d_s = []\n",
    "\n",
    "while s.T*x > epsilon and k < 100:\n",
    "    \n",
    "    X = np.diag(x.T.tolist()[0])\n",
    "    mu = alpha*mu\n",
    "\n",
    "    aug_A_1, aug_b_1 = get_A_b(mu, X, A, e, c)\n",
    "    aug_A_2, aug_b_2 = get_A_b_2(A)\n",
    "\n",
    "    # stack the A's\n",
    "    A_solv = np.vstack((aug_A_1, aug_A_2))\n",
    "\n",
    "    # stack the b's\n",
    "    b_solv = np.vstack((aug_b_1, aug_b_2))\n",
    "    \n",
    "    # we are solving these equations in order to get both the directions for where we should go, \n",
    "    #....and how far we should move.\n",
    "    d_p = np.linalg.solve(A_solv, b_solv)\n",
    "    # extract d and p\n",
    "    # d is the first \"n\" elements\n",
    "    d = d_p[:A.shape[1]]\n",
    "    # p is the last \"m\" elements\n",
    "    p = d_p[-A.shape[0]:]    # why is p so large?\n",
    "\n",
    "    # update the solutions and change x by \"d\"\n",
    "    x_s = x_s + [x]\n",
    "    d_s = d_s + [d]\n",
    "    \n",
    "    x = x + d\n",
    "    p = p\n",
    "    # this is making s negative \n",
    "    s = c - A.T*p\n",
    "    \n",
    "    k += 1\n",
    "    \n",
    "print 'done, and s.T*x is ', s.T*x, 'and k is ', k"
   ]
  },
  {
   "cell_type": "markdown",
   "metadata": {},
   "source": [
    "### implement Theorem 9.7 on page 426 to get primal and dual solutions"
   ]
  },
  {
   "cell_type": "code",
   "execution_count": 373,
   "metadata": {
    "collapsed": true
   },
   "outputs": [],
   "source": [
    "# initial values \n",
    "\n",
    "x_0 = np.matrix([[1.0],[1.0]])\n",
    "s_0 = np.matrix([[1.0],[1.0]])\n",
    "p_0 = np.matrix([[0],[1]])\n",
    "\n",
    "S_0 = np.diag(s_0.T.tolist()[0])\n",
    "X_0 = np.diag(x_0.T.tolist()[0])\n",
    "\n",
    "e_mat = np.matrix([[i] for i in e])\n",
    "A = np.matrix([[1,1],\n",
    "               [1,0]])"
   ]
  },
  {
   "cell_type": "markdown",
   "metadata": {},
   "source": [
    "How is it possible that mu can be *too* large?  when I set mu=900 the inequality doesn't hold, but I thought that initially it is necessary to set mu to be very high?"
   ]
  },
  {
   "cell_type": "code",
   "execution_count": 402,
   "metadata": {
    "collapsed": false
   },
   "outputs": [
    {
     "name": "stdout",
     "output_type": "stream",
     "text": [
      "works LHS is  0.998268396969  which is less than RHS:  1.0\n"
     ]
    }
   ],
   "source": [
    "mu=3.4\n",
    "n = A.shape[1]\n",
    "Beta = 1.0\n",
    "alpha = 1-((np.sqrt(Beta) - Beta)/(np.sqrt(Beta)+np.sqrt(n)))\n",
    "\n",
    "# pick initial solutions that satisfy this:\n",
    "\n",
    "e_mat = np.matrix([[i] for i in e])\n",
    "L = (1/mu)*np.asmatrix(X_0)*np.asmatrix(S_0)*e_mat - e_mat\n",
    "\n",
    "LHS = np.linalg.norm(L, ord=2)\n",
    "RHS = Beta\n",
    "\n",
    "if LHS <= RHS:\n",
    "    print 'works LHS is ', LHS, ' which is less than RHS: ', RHS\n",
    "else:\n",
    "    print 'does not work. LHS is ', LHS, ' which is greater than RHS: ', RHS"
   ]
  },
  {
   "cell_type": "code",
   "execution_count": null,
   "metadata": {
    "collapsed": true
   },
   "outputs": [],
   "source": []
  },
  {
   "cell_type": "code",
   "execution_count": null,
   "metadata": {
    "collapsed": true
   },
   "outputs": [],
   "source": []
  }
 ],
 "metadata": {
  "kernelspec": {
   "display_name": "Python 2",
   "language": "python",
   "name": "python2"
  },
  "language_info": {
   "codemirror_mode": {
    "name": "ipython",
    "version": 2
   },
   "file_extension": ".py",
   "mimetype": "text/x-python",
   "name": "python",
   "nbconvert_exporter": "python",
   "pygments_lexer": "ipython2",
   "version": "2.7.12rc1"
  }
 },
 "nbformat": 4,
 "nbformat_minor": 1
}
